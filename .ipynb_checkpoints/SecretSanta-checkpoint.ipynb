{
 "cells": [
  {
   "cell_type": "markdown",
   "metadata": {},
   "source": [
    "# Secret Santa Py"
   ]
  },
  {
   "cell_type": "markdown",
   "metadata": {},
   "source": [
    "Ho Ho Ho!\n",
    "\n",
    "Want to organize a secret santa ring for your family or work group?\n",
    "Want to make it totally secret? (No \"master\"?)\n",
    "Want to include SMS messaging to the participants?\n",
    "\n",
    "Check out this script to play around with the mechanics and be sure to run the .py file to set your plans in order.\n",
    "\n",
    "Ho Ho Ho!"
   ]
  },
  {
   "cell_type": "code",
   "execution_count": 9,
   "metadata": {},
   "outputs": [],
   "source": [
    "import random as r\n",
    "\n",
    "def choose(options):\n",
    "    rands = [r.random() for i in options]\n",
    "    rank = {}\n",
    "    for rand,p in zip(rands,options):\n",
    "        rank[rand] = p\n",
    "    \n",
    "    options = sorted(rank)\n",
    "    \n",
    "    return rank[options[0]]\n",
    "\n",
    "def remove_name(a,possible):\n",
    "    for p in possible:\n",
    "        possible[p] = [i for i in possible[p] if i != a[1]]"
   ]
  },
  {
   "cell_type": "code",
   "execution_count": 10,
   "metadata": {},
   "outputs": [],
   "source": [
    "possible = dict()\n",
    "final = dict()"
   ]
  },
  {
   "cell_type": "code",
   "execution_count": 11,
   "metadata": {},
   "outputs": [],
   "source": [
    "with open('SecretSanta.csv','r') as f:\n",
    "    for l in f:\n",
    "        l = l.strip().split(',')\n",
    "        \n",
    "        # l[0] is the name of the person.\n",
    "        # l[1:] are the names of all the possible people that person could get matched with.\n",
    "        # This is good if, for example, one of your criterias is partners shouldn't pair or parents/children shouldn't pair.\n",
    "        \n",
    "        possible[l[0]] = [i for i in l[1:] if i != '']"
   ]
  },
  {
   "cell_type": "code",
   "execution_count": 12,
   "metadata": {},
   "outputs": [],
   "source": [
    "# make list of random numbers\n",
    "rands = [r.random() for i in possible]\n",
    "\n",
    "# Assign these random numbers to people as keys\n",
    "rank = {}\n",
    "for rand,p in zip(rands,possible):\n",
    "    rank[rand] = p"
   ]
  },
  {
   "cell_type": "code",
   "execution_count": 13,
   "metadata": {},
   "outputs": [
    {
     "name": "stdout",
     "output_type": "stream",
     "text": [
      "('Taylor', 'Ryan')\n",
      "('Chris', 'Carolina')\n",
      "('Cameron', 'Judy')\n",
      "('Ryan', 'Cameron')\n",
      "('James', 'Chris')\n",
      "('Amanda', 'Taylor')\n",
      "('Carolina', 'Jido')\n",
      "('Judy', 'Kristi')\n",
      "('Greg', 'Amanda')\n",
      "('Jido', 'James')\n",
      "('Kristi', 'Greg')\n"
     ]
    }
   ],
   "source": [
    "for i in sorted(rank):\n",
    "    a =( rank[i] , choose(possible[rank[i]]) )\n",
    "    print(a) \n",
    "    \n",
    "    final[a[0]] = a[1]\n",
    "    remove_name(a,possible)"
   ]
  },
  {
   "cell_type": "code",
   "execution_count": 16,
   "metadata": {},
   "outputs": [
    {
     "data": {
      "text/plain": [
       "{'Carolina': '18005551234',\n",
       " 'Greg': '18005551234',\n",
       " 'Amanda': '18005551234',\n",
       " 'Ryan': '18005551234',\n",
       " 'Judy': '18005551234',\n",
       " 'James': '18005551234',\n",
       " 'Chris': '18005551234',\n",
       " 'Kristi': '18005551234',\n",
       " 'Cameron': '18005551234',\n",
       " 'Taylor': '18005551234',\n",
       " 'Jido': '18005551234'}"
      ]
     },
     "execution_count": 16,
     "metadata": {},
     "output_type": "execute_result"
    }
   ],
   "source": [
    "# Import phone number of each person involved\n",
    "nums = dict()\n",
    "with open('SecretSantaNumbers.csv','r') as f:\n",
    "    for l in f:\n",
    "        ids = l.strip().split(',')\n",
    "        nums[ids[0]] = ids[1]\n",
    "        \n",
    "# Sample Data Structure\n",
    "nums"
   ]
  },
  {
   "cell_type": "markdown",
   "metadata": {},
   "source": [
    "# Send An SMS"
   ]
  },
  {
   "cell_type": "markdown",
   "metadata": {},
   "source": [
    "Using twilio we can send sms messages to all participants. \n",
    "\n",
    "Here's the setup for sending a teaser message."
   ]
  },
  {
   "cell_type": "code",
   "execution_count": 17,
   "metadata": {},
   "outputs": [],
   "source": [
    "# Download the helper library from https://www.twilio.com/docs/python/install\n",
    "from twilio.rest import Client\n",
    "\n",
    "# Your Account Sid and Auth Token from twilio.com/console\n",
    "account_sid = 'YOUR_ID_HERE'\n",
    "auth_token = 'YOUR TOKEN HERE'\n",
    "client = Client(account_sid, auth_token)\n",
    "\n",
    "YOUR_NAME = 'YOUR_NAME_HERE'\n",
    "\n",
    "for name in final:\n",
    "    body= 'Hello {0}! This is a test of the Secret Santa Message Hotline. Your Secret Santa will be sent to this number on Thanksgiving weekend. Stay tuned! Love, {1}'.format(name, YOUR_NAME)\n",
    "\n",
    "    message = client.messages \\\n",
    "    .create(\n",
    "         body=body,\n",
    "         from_='YOUR TWILIO NUMBER HERE',\n",
    "         to='+{0}'.format(nums[name])\n",
    "     )\n",
    "\n",
    "#     print(message.sid)\n"
   ]
  },
  {
   "cell_type": "markdown",
   "metadata": {},
   "source": [
    "# Alert Participants of Pairings"
   ]
  },
  {
   "cell_type": "code",
   "execution_count": 22,
   "metadata": {},
   "outputs": [],
   "source": [
    "# Download the helper library from https://www.twilio.com/docs/python/install\n",
    "from twilio.rest import Client\n",
    "\n",
    "# Your Account Sid and Auth Token from twilio.com/console\n",
    "account_sid = 'YOUR_TWILIO_ACCOUNT_ID_HERE'\n",
    "auth_token = 'YOUR_AUTH_TOKEN_HERE'\n",
    "client = Client(account_sid, auth_token)\n",
    "\n",
    "for name in final:\n",
    "    string_to_p = 'Hi {0}! This is the Secret Santa Message Hotline. You are {1}\\'s Secret Santa. Merry Merry ho-ho-ho!'.format(name,final[name])\n",
    "    \n",
    "    body = string_to_p\n",
    "    \n",
    "    message = client.messages \\\n",
    "    .create(\n",
    "         body=body,\n",
    "         from_='YOUR TWILIO NUMBER HERE',\n",
    "         to='+{0}'.format(nums[name])\n",
    "     )"
   ]
  }
 ],
 "metadata": {
  "kernelspec": {
   "display_name": "Python 3",
   "language": "python",
   "name": "python3"
  },
  "language_info": {
   "codemirror_mode": {
    "name": "ipython",
    "version": 3
   },
   "file_extension": ".py",
   "mimetype": "text/x-python",
   "name": "python",
   "nbconvert_exporter": "python",
   "pygments_lexer": "ipython3",
   "version": "3.6.5"
  }
 },
 "nbformat": 4,
 "nbformat_minor": 2
}
